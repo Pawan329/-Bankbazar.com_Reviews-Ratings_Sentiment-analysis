{
 "cells": [
  {
   "cell_type": "markdown",
   "metadata": {},
   "source": [
    "# Sentiment analysis:\n",
    "## Reviews & Ratings of Cards, Loans, Insurance and Investment Options.\n",
    "### 1. On Sample basis taking only two pages.\n",
    "### 2. Total 40 Reviews are there in two pages.\n",
    "\n",
    "\n",
    "\n",
    "- Website : Bankbazar.com"
   ]
  },
  {
   "cell_type": "code",
   "execution_count": 1,
   "metadata": {},
   "outputs": [],
   "source": [
    "import pandas as pd"
   ]
  },
  {
   "cell_type": "markdown",
   "metadata": {},
   "source": [
    "### The glob module finds all the pathnames matching a specified pattern"
   ]
  },
  {
   "cell_type": "code",
   "execution_count": 2,
   "metadata": {},
   "outputs": [],
   "source": [
    "import glob"
   ]
  },
  {
   "cell_type": "code",
   "execution_count": 3,
   "metadata": {},
   "outputs": [],
   "source": [
    "html_files = glob.glob(r\"*.html\")"
   ]
  },
  {
   "cell_type": "markdown",
   "metadata": {},
   "source": [
    "### Two HTML files found in specified path"
   ]
  },
  {
   "cell_type": "code",
   "execution_count": 4,
   "metadata": {},
   "outputs": [
    {
     "data": {
      "text/plain": [
       "['Review1.html', 'Review2.html']"
      ]
     },
     "execution_count": 4,
     "metadata": {},
     "output_type": "execute_result"
    }
   ],
   "source": [
    "html_files"
   ]
  },
  {
   "cell_type": "code",
   "execution_count": 5,
   "metadata": {},
   "outputs": [],
   "source": [
    "import codecs"
   ]
  },
  {
   "cell_type": "code",
   "execution_count": 6,
   "metadata": {},
   "outputs": [],
   "source": [
    "s = \" \"\n",
    "html_array = []\n",
    "for file in html_files:\n",
    "    f = codecs.open(file,\"r\")\n",
    "    html_array.append(f.read())\n"
   ]
  },
  {
   "cell_type": "code",
   "execution_count": 7,
   "metadata": {},
   "outputs": [],
   "source": [
    "html = s.join(html_array)"
   ]
  },
  {
   "cell_type": "code",
   "execution_count": 8,
   "metadata": {},
   "outputs": [],
   "source": [
    "# print all source code of html file\n",
    "# print(html)"
   ]
  },
  {
   "cell_type": "markdown",
   "metadata": {},
   "source": [
    "### Class : \"text_here review-desc-more\"  for saving reviews\n",
    "- 40 Reviews found"
   ]
  },
  {
   "cell_type": "code",
   "execution_count": 9,
   "metadata": {},
   "outputs": [
    {
     "data": {
      "text/plain": [
       "40"
      ]
     },
     "execution_count": 9,
     "metadata": {},
     "output_type": "execute_result"
    }
   ],
   "source": [
    "html.count(\"text_here review-desc-more\")"
   ]
  },
  {
   "cell_type": "markdown",
   "metadata": {},
   "source": [
    "### Beautiful Soup is a Python package for parsing HTML and XML documents"
   ]
  },
  {
   "cell_type": "code",
   "execution_count": 10,
   "metadata": {},
   "outputs": [],
   "source": [
    "from bs4 import BeautifulSoup"
   ]
  },
  {
   "cell_type": "code",
   "execution_count": 11,
   "metadata": {},
   "outputs": [],
   "source": [
    "parsed_html = BeautifulSoup(html,\"html.parser\")"
   ]
  },
  {
   "cell_type": "code",
   "execution_count": 12,
   "metadata": {},
   "outputs": [],
   "source": [
    "Reviews = parsed_html.find_all('div',{'class':\"text_here review-desc-more\"})"
   ]
  },
  {
   "cell_type": "code",
   "execution_count": 13,
   "metadata": {},
   "outputs": [
    {
     "name": "stdout",
     "output_type": "stream",
     "text": [
      "[<div class=\"text_here review-desc-more\" itemprop=\"description\">\n",
      "                                Its because of the good offers i have chosen the credit card from Indusind bank. Its a life time free credit card. I had applied the card with the card to card process hence they have given me a existing credit limit which I'm satisfied with. Purchased the credit card 1 month before. I got the credit card on time and the same has been delivered to residential address.</div>, <div class=\"text_here review-desc-more\" itemprop=\"description\">\n",
      "                                I have taken personal loan directly through Capital First.This loan is still active ,The rate of interest and the processing fee was nominal it was 18%.The loan amount got on time and paying the premium on EMI basis.I am satisfied with the  overall service so far .</div>, <div class=\"text_here review-desc-more\" itemprop=\"description\">\n",
      "                                I have Ratnakar Bank credit card which was taken through Bank directly.This card is good to use and there are good reward points as well as cash back offers .There are buy one get one movie ticket offers .I have uploaded documents through online only.I am comfortable with the service so far .</div>, <div class=\"text_here review-desc-more\" itemprop=\"description\">\n",
      "                                I have a problem with the call centre people because when i contact Indusind, they are not picking up the call within few minutes. Bank has given me a limit of Rs. 50000 which is higher for me. While I'm applying the card, they have given me a good services. There is no yearly charges for this card. I have received my first month statement and its clear to understand. </div>, <div class=\"text_here review-desc-more\" itemprop=\"description\">\n",
      "                                I have been using the paytm services for past 2 years. Most of the times, i do the UPI payment and money transfer. There is a additional charges for fund transfer anyway its nominal. I have installed the app in my phone. Rarely i used to receive the cashback offers. Sometimes i use this app for bus ticket booking and movie ticket booking. </div>]\n"
     ]
    }
   ],
   "source": [
    "# Out of 40 only 5 Reviews printing\n",
    "print(Reviews[0:5])"
   ]
  },
  {
   "cell_type": "code",
   "execution_count": 14,
   "metadata": {},
   "outputs": [
    {
     "data": {
      "text/plain": [
       "40"
      ]
     },
     "execution_count": 14,
     "metadata": {},
     "output_type": "execute_result"
    }
   ],
   "source": [
    "len(Reviews)"
   ]
  },
  {
   "cell_type": "markdown",
   "metadata": {},
   "source": [
    "### RegEx library for dealing with patterns in string"
   ]
  },
  {
   "cell_type": "code",
   "execution_count": 15,
   "metadata": {},
   "outputs": [],
   "source": [
    "import re"
   ]
  },
  {
   "cell_type": "code",
   "execution_count": 16,
   "metadata": {},
   "outputs": [],
   "source": [
    "def clean_html(raw_html):\n",
    "    clean = re.compile('<>*.?')\n",
    "    cleaned_text = re.sub(clean,'',raw_html)\n",
    "    return cleaned_text"
   ]
  },
  {
   "cell_type": "code",
   "execution_count": 17,
   "metadata": {},
   "outputs": [],
   "source": [
    "revws = []\n",
    "\n",
    "for i in range(0,len(Reviews)):\n",
    "    revws.append(clean_html(Reviews[i].text))"
   ]
  },
  {
   "cell_type": "code",
   "execution_count": 18,
   "metadata": {},
   "outputs": [],
   "source": [
    "# print(revws)"
   ]
  },
  {
   "cell_type": "code",
   "execution_count": 24,
   "metadata": {},
   "outputs": [],
   "source": [
    "# Dispay full stuff of rows:\n",
    "\n",
    "pd.set_option('display.max_colwidth',1)"
   ]
  },
  {
   "cell_type": "code",
   "execution_count": 25,
   "metadata": {},
   "outputs": [],
   "source": [
    "Reviews = pd.DataFrame({'Reviews':revws})"
   ]
  },
  {
   "cell_type": "code",
   "execution_count": 26,
   "metadata": {},
   "outputs": [
    {
     "data": {
      "text/html": [
       "<div>\n",
       "<style scoped>\n",
       "    .dataframe tbody tr th:only-of-type {\n",
       "        vertical-align: middle;\n",
       "    }\n",
       "\n",
       "    .dataframe tbody tr th {\n",
       "        vertical-align: top;\n",
       "    }\n",
       "\n",
       "    .dataframe thead th {\n",
       "        text-align: right;\n",
       "    }\n",
       "</style>\n",
       "<table border=\"1\" class=\"dataframe\">\n",
       "  <thead>\n",
       "    <tr style=\"text-align: right;\">\n",
       "      <th></th>\n",
       "      <th>Reviews</th>\n",
       "    </tr>\n",
       "  </thead>\n",
       "  <tbody>\n",
       "    <tr>\n",
       "      <th>0</th>\n",
       "      <td>\\n                                Its because of the good offers i have chosen the credit card from Indusind bank. Its a life time free credit card. I had applied the card with the card to card process hence they have given me a existing credit limit which I'm satisfied with. Purchased the credit card 1 month before. I got the credit card on time and the same has been delivered to residential address.</td>\n",
       "    </tr>\n",
       "    <tr>\n",
       "      <th>1</th>\n",
       "      <td>\\n                                I have taken personal loan directly through Capital First.This loan is still active ,The rate of interest and the processing fee was nominal it was 18%.The loan amount got on time and paying the premium on EMI basis.I am satisfied with the  overall service so far .</td>\n",
       "    </tr>\n",
       "    <tr>\n",
       "      <th>2</th>\n",
       "      <td>\\n                                I have Ratnakar Bank credit card which was taken through Bank directly.This card is good to use and there are good reward points as well as cash back offers .There are buy one get one movie ticket offers .I have uploaded documents through online only.I am comfortable with the service so far .</td>\n",
       "    </tr>\n",
       "    <tr>\n",
       "      <th>3</th>\n",
       "      <td>\\n                                I have a problem with the call centre people because when i contact Indusind, they are not picking up the call within few minutes. Bank has given me a limit of Rs. 50000 which is higher for me. While I'm applying the card, they have given me a good services. There is no yearly charges for this card. I have received my first month statement and its clear to understand.</td>\n",
       "    </tr>\n",
       "    <tr>\n",
       "      <th>4</th>\n",
       "      <td>\\n                                I have been using the paytm services for past 2 years. Most of the times, i do the UPI payment and money transfer. There is a additional charges for fund transfer anyway its nominal. I have installed the app in my phone. Rarely i used to receive the cashback offers. Sometimes i use this app for bus ticket booking and movie ticket booking.</td>\n",
       "    </tr>\n",
       "  </tbody>\n",
       "</table>\n",
       "</div>"
      ],
      "text/plain": [
       "                                                                                                                                                                                                                                                                                                                                                                                                                 Reviews\n",
       "0  \\n                                Its because of the good offers i have chosen the credit card from Indusind bank. Its a life time free credit card. I had applied the card with the card to card process hence they have given me a existing credit limit which I'm satisfied with. Purchased the credit card 1 month before. I got the credit card on time and the same has been delivered to residential address. \n",
       "1  \\n                                I have taken personal loan directly through Capital First.This loan is still active ,The rate of interest and the processing fee was nominal it was 18%.The loan amount got on time and paying the premium on EMI basis.I am satisfied with the  overall service so far .                                                                                                          \n",
       "2  \\n                                I have Ratnakar Bank credit card which was taken through Bank directly.This card is good to use and there are good reward points as well as cash back offers .There are buy one get one movie ticket offers .I have uploaded documents through online only.I am comfortable with the service so far .                                                                              \n",
       "3  \\n                                I have a problem with the call centre people because when i contact Indusind, they are not picking up the call within few minutes. Bank has given me a limit of Rs. 50000 which is higher for me. While I'm applying the card, they have given me a good services. There is no yearly charges for this card. I have received my first month statement and its clear to understand. \n",
       "4  \\n                                I have been using the paytm services for past 2 years. Most of the times, i do the UPI payment and money transfer. There is a additional charges for fund transfer anyway its nominal. I have installed the app in my phone. Rarely i used to receive the cashback offers. Sometimes i use this app for bus ticket booking and movie ticket booking.                               "
      ]
     },
     "execution_count": 26,
     "metadata": {},
     "output_type": "execute_result"
    }
   ],
   "source": [
    "Reviews.head()"
   ]
  },
  {
   "cell_type": "markdown",
   "metadata": {},
   "source": [
    "### Drop Duplicates if any"
   ]
  },
  {
   "cell_type": "code",
   "execution_count": 27,
   "metadata": {},
   "outputs": [],
   "source": [
    "Reviews.drop_duplicates(inplace=True)"
   ]
  },
  {
   "cell_type": "code",
   "execution_count": 28,
   "metadata": {},
   "outputs": [
    {
     "data": {
      "text/html": [
       "<div>\n",
       "<style scoped>\n",
       "    .dataframe tbody tr th:only-of-type {\n",
       "        vertical-align: middle;\n",
       "    }\n",
       "\n",
       "    .dataframe tbody tr th {\n",
       "        vertical-align: top;\n",
       "    }\n",
       "\n",
       "    .dataframe thead th {\n",
       "        text-align: right;\n",
       "    }\n",
       "</style>\n",
       "<table border=\"1\" class=\"dataframe\">\n",
       "  <thead>\n",
       "    <tr style=\"text-align: right;\">\n",
       "      <th></th>\n",
       "      <th>Reviews</th>\n",
       "    </tr>\n",
       "  </thead>\n",
       "  <tbody>\n",
       "    <tr>\n",
       "      <th>0</th>\n",
       "      <td>\\n                                Its because of the good offers i have chosen the credit card from Indusind bank. Its a life time free credit card. I had applied the card with the card to card process hence they have given me a existing credit limit which I'm satisfied with. Purchased the credit card 1 month before. I got the credit card on time and the same has been delivered to residential address.</td>\n",
       "    </tr>\n",
       "    <tr>\n",
       "      <th>1</th>\n",
       "      <td>\\n                                I have taken personal loan directly through Capital First.This loan is still active ,The rate of interest and the processing fee was nominal it was 18%.The loan amount got on time and paying the premium on EMI basis.I am satisfied with the  overall service so far .</td>\n",
       "    </tr>\n",
       "    <tr>\n",
       "      <th>2</th>\n",
       "      <td>\\n                                I have Ratnakar Bank credit card which was taken through Bank directly.This card is good to use and there are good reward points as well as cash back offers .There are buy one get one movie ticket offers .I have uploaded documents through online only.I am comfortable with the service so far .</td>\n",
       "    </tr>\n",
       "    <tr>\n",
       "      <th>3</th>\n",
       "      <td>\\n                                I have a problem with the call centre people because when i contact Indusind, they are not picking up the call within few minutes. Bank has given me a limit of Rs. 50000 which is higher for me. While I'm applying the card, they have given me a good services. There is no yearly charges for this card. I have received my first month statement and its clear to understand.</td>\n",
       "    </tr>\n",
       "    <tr>\n",
       "      <th>4</th>\n",
       "      <td>\\n                                I have been using the paytm services for past 2 years. Most of the times, i do the UPI payment and money transfer. There is a additional charges for fund transfer anyway its nominal. I have installed the app in my phone. Rarely i used to receive the cashback offers. Sometimes i use this app for bus ticket booking and movie ticket booking.</td>\n",
       "    </tr>\n",
       "  </tbody>\n",
       "</table>\n",
       "</div>"
      ],
      "text/plain": [
       "                                                                                                                                                                                                                                                                                                                                                                                                                 Reviews\n",
       "0  \\n                                Its because of the good offers i have chosen the credit card from Indusind bank. Its a life time free credit card. I had applied the card with the card to card process hence they have given me a existing credit limit which I'm satisfied with. Purchased the credit card 1 month before. I got the credit card on time and the same has been delivered to residential address. \n",
       "1  \\n                                I have taken personal loan directly through Capital First.This loan is still active ,The rate of interest and the processing fee was nominal it was 18%.The loan amount got on time and paying the premium on EMI basis.I am satisfied with the  overall service so far .                                                                                                          \n",
       "2  \\n                                I have Ratnakar Bank credit card which was taken through Bank directly.This card is good to use and there are good reward points as well as cash back offers .There are buy one get one movie ticket offers .I have uploaded documents through online only.I am comfortable with the service so far .                                                                              \n",
       "3  \\n                                I have a problem with the call centre people because when i contact Indusind, they are not picking up the call within few minutes. Bank has given me a limit of Rs. 50000 which is higher for me. While I'm applying the card, they have given me a good services. There is no yearly charges for this card. I have received my first month statement and its clear to understand. \n",
       "4  \\n                                I have been using the paytm services for past 2 years. Most of the times, i do the UPI payment and money transfer. There is a additional charges for fund transfer anyway its nominal. I have installed the app in my phone. Rarely i used to receive the cashback offers. Sometimes i use this app for bus ticket booking and movie ticket booking.                               "
      ]
     },
     "execution_count": 28,
     "metadata": {},
     "output_type": "execute_result"
    }
   ],
   "source": [
    "Reviews.head()"
   ]
  },
  {
   "cell_type": "code",
   "execution_count": 29,
   "metadata": {},
   "outputs": [
    {
     "data": {
      "text/plain": [
       "Reviews    object\n",
       "dtype: object"
      ]
     },
     "execution_count": 29,
     "metadata": {},
     "output_type": "execute_result"
    }
   ],
   "source": [
    "Reviews.dtypes"
   ]
  },
  {
   "cell_type": "code",
   "execution_count": 30,
   "metadata": {},
   "outputs": [
    {
     "data": {
      "text/plain": [
       "pandas.core.frame.DataFrame"
      ]
     },
     "execution_count": 30,
     "metadata": {},
     "output_type": "execute_result"
    }
   ],
   "source": [
    "type(Reviews)"
   ]
  },
  {
   "cell_type": "code",
   "execution_count": 31,
   "metadata": {},
   "outputs": [],
   "source": [
    "# Saving file in excel format\n",
    "\n",
    "# Reviews.to_excel('abc.xlsx')"
   ]
  },
  {
   "cell_type": "markdown",
   "metadata": {},
   "source": [
    "# ======================================================="
   ]
  },
  {
   "cell_type": "markdown",
   "metadata": {},
   "source": [
    "# TextBlob is a Python library for processing textual data"
   ]
  },
  {
   "cell_type": "code",
   "execution_count": 33,
   "metadata": {},
   "outputs": [],
   "source": [
    "from textblob import TextBlob"
   ]
  },
  {
   "cell_type": "code",
   "execution_count": 34,
   "metadata": {},
   "outputs": [],
   "source": [
    "text = Reviews['Reviews']"
   ]
  },
  {
   "cell_type": "code",
   "execution_count": 35,
   "metadata": {},
   "outputs": [
    {
     "data": {
      "text/plain": [
       "str"
      ]
     },
     "execution_count": 35,
     "metadata": {},
     "output_type": "execute_result"
    }
   ],
   "source": [
    "type(text[0])"
   ]
  },
  {
   "cell_type": "markdown",
   "metadata": {},
   "source": [
    "### importing Stopwords list form nltk libarary"
   ]
  },
  {
   "cell_type": "code",
   "execution_count": 37,
   "metadata": {},
   "outputs": [],
   "source": [
    "from nltk.corpus import stopwords\n",
    "stopwords_list = set(stopwords.words('english'))"
   ]
  },
  {
   "cell_type": "markdown",
   "metadata": {},
   "source": [
    "### Printing only 10 stopwords to avoid more scrolling"
   ]
  },
  {
   "cell_type": "code",
   "execution_count": 39,
   "metadata": {},
   "outputs": [
    {
     "data": {
      "text/plain": [
       "['whom',\n",
       " 'himself',\n",
       " 'there',\n",
       " 'further',\n",
       " 'hasn',\n",
       " 'each',\n",
       " 'our',\n",
       " \"you'd\",\n",
       " 'having',\n",
       " 'herself']"
      ]
     },
     "execution_count": 39,
     "metadata": {},
     "output_type": "execute_result"
    }
   ],
   "source": [
    "stopwords_list = list(stopwords_list)\n",
    "stopwords_list[:10]"
   ]
  },
  {
   "cell_type": "code",
   "execution_count": 40,
   "metadata": {},
   "outputs": [],
   "source": [
    "from nltk.tokenize import word_tokenize"
   ]
  },
  {
   "cell_type": "code",
   "execution_count": 45,
   "metadata": {},
   "outputs": [],
   "source": [
    "# After removing stopwords from reviews storing back as string format"
   ]
  },
  {
   "cell_type": "code",
   "execution_count": 46,
   "metadata": {},
   "outputs": [],
   "source": [
    "my_string = \" \"\n",
    "\n",
    "for words in text:\n",
    "    for word in (word_tokenize(words)):\n",
    "        if word not in stopwords_list:\n",
    "            my_string += (word+\" \")\n",
    "            \n",
    "    my_string += \" *** \"\n",
    "            "
   ]
  },
  {
   "cell_type": "code",
   "execution_count": 47,
   "metadata": {},
   "outputs": [],
   "source": [
    "# my_string"
   ]
  },
  {
   "cell_type": "code",
   "execution_count": 48,
   "metadata": {},
   "outputs": [],
   "source": [
    "my_string = my_string.split(\"***\")"
   ]
  },
  {
   "cell_type": "markdown",
   "metadata": {},
   "source": [
    "### Out of 40 only 5 reviews (Stopwords removed) printing to avoid more scrolling"
   ]
  },
  {
   "cell_type": "code",
   "execution_count": 50,
   "metadata": {},
   "outputs": [
    {
     "data": {
      "text/plain": [
       "[\" Its good offers chosen credit card Indusind bank . Its life time free credit card . I applied card card card process hence given existing credit limit I 'm satisfied . Purchased credit card 1 month . I got credit card time delivered residential address .  \",\n",
       " ' I taken personal loan directly Capital First.This loan still active , The rate interest processing fee nominal 18 % .The loan amount got time paying premium EMI basis.I satisfied overall service far .  ',\n",
       " ' I Ratnakar Bank credit card taken Bank directly.This card good use good reward points well cash back offers .There buy one get one movie ticket offers .I uploaded documents online only.I comfortable service far .  ',\n",
       " \" I problem call centre people contact Indusind , picking call within minutes . Bank given limit Rs . 50000 higher . While I 'm applying card , given good services . There yearly charges card . I received first month statement clear understand .  \",\n",
       " ' I using paytm services past 2 years . Most times , UPI payment money transfer . There additional charges fund transfer anyway nominal . I installed app phone . Rarely used receive cashback offers . Sometimes use app bus ticket booking movie ticket booking .  ']"
      ]
     },
     "execution_count": 50,
     "metadata": {},
     "output_type": "execute_result"
    }
   ],
   "source": [
    "my_string[0:5]"
   ]
  },
  {
   "cell_type": "code",
   "execution_count": 51,
   "metadata": {},
   "outputs": [],
   "source": [
    "from textblob import TextBlob"
   ]
  },
  {
   "cell_type": "code",
   "execution_count": 52,
   "metadata": {},
   "outputs": [],
   "source": [
    "blob = TextBlob(my_string[0])"
   ]
  },
  {
   "cell_type": "markdown",
   "metadata": {},
   "source": [
    "# Calculating sentiment polarity of reviews"
   ]
  },
  {
   "cell_type": "code",
   "execution_count": 53,
   "metadata": {},
   "outputs": [
    {
     "name": "stdout",
     "output_type": "stream",
     "text": [
      "\n",
      "  Its good offers chosen credit card Indusind bank . Its life time free credit card . I applied card card card process hence given existing credit limit I 'm satisfied . Purchased credit card 1 month . I got credit card time delivered residential address .  \n",
      " sentiment Polarity 0.425 \n",
      " \n",
      "========================================================================================================================\n",
      "\n",
      "  I taken personal loan directly Capital First.This loan still active , The rate interest processing fee nominal 18 % .The loan amount got time paying premium EMI basis.I satisfied overall service far .  \n",
      " sentiment Polarity 0.09444444444444444 \n",
      " \n",
      "========================================================================================================================\n",
      "\n",
      "  I Ratnakar Bank credit card taken Bank directly.This card good use good reward points well cash back offers .There buy one get one movie ticket offers .I uploaded documents online only.I comfortable service far .  \n",
      " sentiment Polarity 0.3 \n",
      " \n",
      "========================================================================================================================\n",
      "\n",
      "  I problem call centre people contact Indusind , picking call within minutes . Bank given limit Rs . 50000 higher . While I 'm applying card , given good services . There yearly charges card . I received first month statement clear understand .  \n",
      " sentiment Polarity 0.325 \n",
      " \n",
      "========================================================================================================================\n",
      "\n",
      "  I using paytm services past 2 years . Most times , UPI payment money transfer . There additional charges fund transfer anyway nominal . I installed app phone . Rarely used receive cashback offers . Sometimes use app bus ticket booking movie ticket booking .  \n",
      " sentiment Polarity 0.1625 \n",
      " \n",
      "========================================================================================================================\n",
      "\n",
      "  Opened savings account 5 years ago chosen Karnataka bank branch near home hence access easily . Their response getting delayed time customer care called regarding issues . I requested active Internet banking facility done .  \n",
      " sentiment Polarity 0.13333333333333333 \n",
      " \n",
      "========================================================================================================================\n",
      "\n",
      "  Using salary account ICICI last 4 years faced issue till . I using Imobile app since opened account user friendly hence access option provided bank . Once twice year , used visit branch since option online response good branch .  \n",
      " sentiment Polarity 0.35833333333333334 \n",
      " \n",
      "========================================================================================================================\n",
      "\n",
      "  I made recurring deposit ICICI bank . I invested money Rs . 1000 every month . I chosen lock period 10 months . The amount automatically deducted account . They provided interest rate 7.5 % . I 'm holding account ICICI hence found option app chosen .  \n",
      " sentiment Polarity 0.0 \n",
      " \n",
      "========================================================================================================================\n",
      "\n",
      "  Using ICICI bank credit card last 1.5 years . I get offers fuel Buy1+get1 movie ticket apart get offers e-commerce website . Actually approached increase limit given additional card limit splited cards .  \n",
      " sentiment Polarity 0.05 \n",
      " \n",
      "========================================================================================================================\n",
      "\n",
      "  Its good offers , selected SBI Simply card get offers petrol bunks movie tickets . The credit limit offered really good compared cards . I n't experienced balance transfer facility . I Savings account SBI hence feel quite difficult repay credit card bill .  \n",
      " sentiment Polarity 0.2714285714285714 \n",
      " \n",
      "========================================================================================================================\n",
      "\n",
      "  I SBI credit card taken Online .I using credit card past 1 month .The credit limit less got credit card delay basis took 1 month time deliver credit card .The process smooth satisfied overall service .  \n",
      " sentiment Polarity 0.09666666666666668 \n",
      " \n",
      "========================================================================================================================\n",
      "\n",
      "  Using SBI credit card almost 5 years . I get lots benefits like cashbacks discounts . Since Government based holding . I yet tried balance transfer facility . Customer care service nice . At time purchase card limit Rs . 25000 far enhanced limit .  \n",
      " sentiment Polarity 0.35 \n",
      " \n",
      "========================================================================================================================\n",
      "\n",
      "  Generally chosen credit card HSBC card life time free hence fee waiver . I get cashbacks offers purchase online . I use card since 3 months . They given credit limit Rs . 1.60 lakhs . Its hassle free card use .  \n",
      " sentiment Polarity 0.23750000000000002 \n",
      " \n",
      "========================================================================================================================\n",
      "\n",
      "  Since YES bank card want kind experience purchased card . They providing EMI option bulk payment 'm . There annual fee joining fee . They telling rewards points know redemption details .  \n",
      " sentiment Polarity 0.6 \n",
      " \n",
      "========================================================================================================================\n",
      "\n",
      "  I credit card Amex till n't find problem card . I use Gold card since 6 months . I spoke customer care service response good . They provided credit limit convenient . This life time free credit card use .  \n",
      " sentiment Polarity 0.55 \n",
      " \n",
      "========================================================================================================================\n",
      "\n",
      "  Indusind bank service good opted credit card . They offered good credit limit zero annual fee . I get cashback offers online . I never faced issue card . EMI facility n't availed far since got card 1 month .  \n",
      " sentiment Polarity 0.4 \n",
      " \n",
      "========================================================================================================================\n",
      "\n",
      "  This life time free credit card thats reason chosen Indusind card . Definitely , 'm satisfied credit limit . I never tried EMI conversion far . I get offers . I received card per promised time . Documentation process done online . I n't received kind joining offers .  \n",
      " sentiment Polarity 0.30000000000000004 \n",
      " \n",
      "========================================================================================================================\n",
      "\n",
      "  I reason apply HSBC card 'm aware benefits provided card . I submitted documents salary statement , PAN card existing credit card statement . They called informed card got rejected due issue . Its life time free credit card .  \n",
      " sentiment Polarity 0.17500000000000002 \n",
      " \n",
      "========================================================================================================================\n",
      "\n",
      "  I applied INDUSIND BANK credit card online . An appointment fixed documents collection bank executive never turned . I wish bank follow application least week come conclusion whether process .  \n",
      " sentiment Polarity -0.09999999999999999 \n",
      " \n",
      "========================================================================================================================\n",
      "\n",
      "  I applied credit card SBI online . Annual fee 499 plus GST . But charges high 24 % option waiver . I submitted documents like Aadhar card photograph . Received card along welcome kit around 22-25 days . There proper follow bank end . They told , I getting one lakh credit limit I received 75K . Am required EMI conversion option . I using card emergency , fuel shopping purpose . If I purchase 2K within 60 days , I get reward points 500 rupees converted cash .  \n",
      " sentiment Polarity 0.32 \n",
      " \n",
      "========================================================================================================================\n",
      "\n",
      "  I taken car loan directly HDFC Bank.The car model 2016 name vehicle Hyundai Accent .The rate interest processing fee nominal.The loan amount got sanctioned time without drawbacks.The process smooth completely satisfied service .  \n",
      " sentiment Polarity 0.3333333333333333 \n",
      " \n",
      "========================================================================================================================\n",
      "\n",
      "  EMI interest rates high HDFC . Since 3 years , utilizing benefits card . Am salary account holder HDFC , provided free credit card . I convert purchase EMI online sometimes executive called conversion .  \n",
      " sentiment Polarity 0.28 \n",
      " \n",
      "========================================================================================================================\n",
      "\n",
      "  I got credit card Indusind bank . If bulk purchase , approached convert purchase EMI informed charges . Am unable login app . They provided credit limit Rs . 1 lakh never interacted customer care service till .  \n",
      " sentiment Polarity -0.5 \n",
      " \n",
      "========================================================================================================================\n",
      "\n",
      "  I taken personal loan directly HDFC Bank .The rate interest nominal got loan amount time without delay .The agent shared relevant details loan process .This loan still active paying premium EMI basis paperless approval .  \n",
      " sentiment Polarity 0.09166666666666667 \n",
      " \n",
      "========================================================================================================================\n",
      "\n",
      "  I SBI credit card taken Online .I faced issues far usage .I comfortable credit limit got credit card time without delay .I using credit card past 1 month only.This credit card good use completely satisfied service .  \n",
      " sentiment Polarity 0.29 \n",
      " \n",
      "========================================================================================================================\n",
      "\n",
      "  Got DSLR Camera Bajaj Finserv Consumer durable loan 3 years back . The EMI amount auto deducted account . I paid EMI amount Rs . 3600 every months . I selected duration 8 months . I already completed loan n't receive NOC letter anyway download website .  \n",
      " sentiment Polarity 0.0 \n",
      " \n",
      "========================================================================================================================\n",
      "\n",
      "  Bajaj Finserv Consumer durable loan best loan provide zero percentage interest rate bought television home . I made payment 3 months installment amount . Within 2 hours , got loan provided documents PAN card Cheque .  \n",
      " sentiment Polarity 1.0 \n",
      " \n",
      "========================================================================================================================\n",
      "\n",
      "  In Axis bank personal loan , interest rate 18 % . I took loan amount Rs . 2 lakhs amount credited account 15 days . They part payment pre-closure facility without additional charges . I already use credit card Axis bank chosen bank .  \n",
      " sentiment Polarity 0.0 \n",
      " \n",
      "========================================================================================================================\n",
      "\n",
      "  Chosen personal loan Bajaj Finserv provide loan within short span time . I purchased loan amount Rs . 3 lakhs rate interest 11.75 % I 'm paying EMI amount Rs . 8100 tenure period 5 years . I provided documents collection executive .  \n",
      " sentiment Polarity 0.0 \n",
      " \n",
      "========================================================================================================================\n",
      "\n",
      "  RBL credit card fine given fine credit limit . I 'm contacted customer service yet . There annual fee Rs . 1000 waiver option . They sending offers mails messages . I got huge limit Rs . 1.10 lakhs . There hassle using credit card .  \n",
      " sentiment Polarity 0.33333333333333337 \n",
      " \n",
      "========================================================================================================================\n",
      "\n",
      "  Its 5 years since I 'm using credit card ICICI bank . The benefits similar like cards . I received card less time . They provided welcome kit offers used . I make repayment online . I 'm receiving statement mail id .  \n",
      " sentiment Polarity 0.18333333333333335 \n",
      " \n",
      "========================================================================================================================\n",
      "\n",
      "  I Ratnakar Bank credit card directly taken Bank.I using credit card past 1.5 years .This life time free card without difficulties got exact time frame . Now days everyone using credit cards since safe .According service average .  \n",
      " sentiment Polarity 0.14166666666666666 \n",
      " \n",
      "========================================================================================================================\n",
      "\n",
      "  Around 3 4 years , using credit card Axis bank . They giving benefits like 12 purchase month worth amount , give cashbacks . In online booking , giving offers like bookmyshow n't availed . They increased credit limit Rs . 50000 Rs . 75000 .  \n",
      " sentiment Polarity 0.2 \n",
      " \n",
      "========================================================================================================================\n",
      "\n",
      "  There special reason choosing credit card State Bank India . As made transaction card . They given credit limit Rs . 20000 satisfied . I never spoke customer care service . I got bill email paid annual fee Rs . 500 .  \n",
      " sentiment Polarity 0.4285714285714286 \n",
      " \n",
      "========================================================================================================================\n",
      "\n",
      "  I SBI credit card taken Online directly.The credit limit much satisfied got credit card time without hassle .There proper follow callback bank end well.This card useful whenever dont cash hand use time pay later .The overall service pretty good satisfied well .  \n",
      " sentiment Polarity 0.28125 \n",
      " \n",
      "========================================================================================================================\n",
      "\n",
      "  I Ratnakar Bank credit card taken Online .This credit card two movie tickets free per 1 month.There fuel benefits Rs.150 petrol diesel free .The agent gave details credit card process .I satisfied service far .  \n",
      " sentiment Polarity 0.35000000000000003 \n",
      " \n",
      "========================================================================================================================\n",
      "\n",
      "  I SBI credit card taken Online .I using credit card past 2 months .There good cash back offers well reward points .The credit limit good 75,000 chargeable card .I faced drawbacks far using credit card .  \n",
      " sentiment Polarity 0.225 \n",
      " \n",
      "========================================================================================================================\n",
      "\n",
      "  I Kotak Mahindra Bank Salary account using recently net banking service & mobile banking service much comfortable access .Mostly using service money transfer overall banking service fine .  \n",
      " sentiment Polarity 0.20416666666666666 \n",
      " \n",
      "========================================================================================================================\n",
      "\n",
      "  I Kotak Mahindra Bank credit card offered Bank .I using credit card past 3 4 years .This free card yet checked cash back offers far .I submitted documents got credit card paperless approval .  \n",
      " sentiment Polarity 0.06999999999999999 \n",
      " \n",
      "========================================================================================================================\n",
      "\n",
      "  I Indusind Bank credit card availed online without delay .I using credit card past 2 months .The credit limit sufficient free card.There difficulties faced far process smooth submitting documents.I got cash back offers well reward points .  \n",
      " sentiment Polarity 0.125 \n",
      " \n",
      "========================================================================================================================\n",
      "\n",
      "  \n",
      " sentiment Polarity 0.0 \n",
      " \n",
      "========================================================================================================================\n"
     ]
    }
   ],
   "source": [
    "for i in range(0,len(my_string)):\n",
    "    print(f\"\\n {my_string[i]}\\n sentiment Polarity {(TextBlob(my_string[i]).polarity)} \\n \")\n",
    "    print(f\"=\"*120)\n",
    "    "
   ]
  },
  {
   "cell_type": "code",
   "execution_count": 55,
   "metadata": {},
   "outputs": [],
   "source": [
    "# Reviews"
   ]
  },
  {
   "cell_type": "code",
   "execution_count": 57,
   "metadata": {},
   "outputs": [],
   "source": [
    "import seaborn as sns # for visualization\n",
    "import matplotlib.pyplot as plt # for visualization"
   ]
  },
  {
   "cell_type": "code",
   "execution_count": 63,
   "metadata": {},
   "outputs": [
    {
     "name": "stdout",
     "output_type": "stream",
     "text": [
      "Requirement already satisfied: wordcloud in c:\\anaconda3\\lib\\site-packages (1.5.0)\n",
      "Requirement already satisfied: pillow in c:\\anaconda3\\lib\\site-packages (from wordcloud) (5.4.1)\n",
      "Requirement already satisfied: numpy>=1.6.1 in c:\\anaconda3\\lib\\site-packages (from wordcloud) (1.16.2)\n"
     ]
    }
   ],
   "source": [
    "!pip install wordcloud"
   ]
  },
  {
   "cell_type": "code",
   "execution_count": 64,
   "metadata": {},
   "outputs": [],
   "source": [
    "from wordcloud import WordCloud"
   ]
  },
  {
   "cell_type": "code",
   "execution_count": 76,
   "metadata": {},
   "outputs": [],
   "source": [
    "Review_string = str(Reviews)"
   ]
  },
  {
   "cell_type": "code",
   "execution_count": 77,
   "metadata": {},
   "outputs": [],
   "source": [
    "wordcloud = WordCloud(width = 1200, height = 800, \n",
    "                background_color ='white', \n",
    "                min_font_size = 10).generate(Review_string) "
   ]
  },
  {
   "cell_type": "code",
   "execution_count": 78,
   "metadata": {},
   "outputs": [
    {
     "data": {
      "image/png": "[encoded data removed]",
      "text/plain": [
       "<Figure size 576x576 with 1 Axes>"
      ]
     },
     "metadata": {
      "needs_background": "light"
     },
     "output_type": "display_data"
    }
   ],
   "source": [
    "plt.figure(figsize = (8,8 ), facecolor = None) \n",
    "plt.imshow(wordcloud) \n",
    "plt.axis(\"off\") \n",
    "plt.tight_layout(pad = 0) \n",
    "  \n",
    "plt.show() "
   ]
  },
  {
   "cell_type": "code",
   "execution_count": null,
   "metadata": {},
   "outputs": [],
   "source": []
  }
 ],
 "metadata": {
  "kernelspec": {
   "display_name": "Python 3",
   "language": "python",
   "name": "python3"
  },
  "language_info": {
   "codemirror_mode": {
    "name": "ipython",
    "version": 3
   },
   "file_extension": ".py",
   "mimetype": "text/x-python",
   "name": "python",
   "nbconvert_exporter": "python",
   "pygments_lexer": "ipython3",
   "version": "3.7.3"
  }
 },
 "nbformat": 4,
 "nbformat_minor": 2
}
